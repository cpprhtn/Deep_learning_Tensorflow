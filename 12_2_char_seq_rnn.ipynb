{
 "cells": [
  {
   "cell_type": "code",
   "execution_count": 4,
   "metadata": {
    "scrolled": true
   },
   "outputs": [
    {
     "name": "stdout",
     "output_type": "stream",
     "text": [
      "_________________________________________________________________\n",
      "Layer (type)                 Output Shape              Param #   \n",
      "=================================================================\n",
      "lstm_2 (LSTM)                (None, 15, 10)            840       \n",
      "_________________________________________________________________\n",
      "time_distributed_2 (TimeDist (None, 15, 10)            110       \n",
      "=================================================================\n",
      "Total params: 950\n",
      "Trainable params: 950\n",
      "Non-trainable params: 0\n",
      "_________________________________________________________________\n"
     ]
    }
   ],
   "source": [
    "import tensorflow as tf\n",
    "import numpy as np\n",
    "\n",
    "sample = \" if you want you\"\n",
    "idx2char = list(set(sample))\n",
    "char2idx = {c: i for i, c in enumerate(idx2char)}\n",
    "\n",
    "#hyper parameters\n",
    "dic_size = len(char2idx)  #RNN input size\n",
    "hidden_size = len(char2idx)  #RNN output size\n",
    "num_classes = len(char2idx)  #final output size\n",
    "batch_size = 1  #one sample data, one batch\n",
    "sequence_length = len(sample) - 1  #number of lstm rollings\n",
    "learning_rate = 0.1\n",
    "\n",
    "sample_idx = [char2idx[c] for c in sample] \n",
    "x_data = [sample_idx[:-1]]  #X data sample (0 ~ n-1) hello: hell\n",
    "y_data = [sample_idx[1:]]   #Y label sample (1 ~ n) hello: ello\n",
    "\n",
    "x_one_hot_eager = tf.one_hot(x_data, num_classes)  #one hot: 1 -> 0 1 0 0 0 0 0 0 0 0\n",
    "x_one_hot_numpy = tf.keras.utils.to_categorical(x_data, num_classes)  #it'll generate numpy array, either way works\n",
    "y_one_hot_eager = tf.one_hot(y_data, num_classes)\n",
    "\n",
    "tf.model = tf.keras.Sequential();\n",
    "tf.model.add(tf.keras.layers.\n",
    "             LSTM(units=num_classes, input_shape=(sequence_length, x_one_hot_eager.shape[2]), return_sequences=True))\n",
    "tf.model.add(tf.keras.layers.TimeDistributed(tf.keras.layers.Dense(units=num_classes, activation='softmax')))\n",
    "tf.model.summary()\n",
    "tf.model.compile(loss='categorical_crossentropy', optimizer=tf.keras.optimizers.Adam(lr=learning_rate),\n",
    "                 metrics=['accuracy'])"
   ]
  },
  {
   "cell_type": "code",
   "execution_count": 5,
   "metadata": {},
   "outputs": [
    {
     "name": "stdout",
     "output_type": "stream",
     "text": [
      "Epoch 1/50\n",
      "10/10 [==============================] - 1s 66ms/step - loss: 1.3345 - acc: 0.5867\n",
      "Epoch 2/50\n",
      "10/10 [==============================] - 0s 9ms/step - loss: 0.1103 - acc: 1.0000\n",
      "Epoch 3/50\n",
      "10/10 [==============================] - 0s 9ms/step - loss: 0.0047 - acc: 1.0000\n",
      "Epoch 4/50\n",
      "10/10 [==============================] - 0s 9ms/step - loss: 0.0012 - acc: 1.0000\n",
      "Epoch 5/50\n",
      "10/10 [==============================] - 0s 9ms/step - loss: 6.7394e-04 - acc: 1.0000\n",
      "Epoch 6/50\n",
      "10/10 [==============================] - 0s 9ms/step - loss: 4.9363e-04 - acc: 1.0000\n",
      "Epoch 7/50\n",
      "10/10 [==============================] - 0s 9ms/step - loss: 4.1039e-04 - acc: 1.0000\n",
      "Epoch 8/50\n",
      "10/10 [==============================] - 0s 9ms/step - loss: 3.6082e-04 - acc: 1.0000\n",
      "Epoch 9/50\n",
      "10/10 [==============================] - 0s 9ms/step - loss: 3.2763e-04 - acc: 1.0000\n",
      "Epoch 10/50\n",
      "10/10 [==============================] - 0s 9ms/step - loss: 3.0249e-04 - acc: 1.0000\n",
      "Epoch 11/50\n",
      "10/10 [==============================] - 0s 9ms/step - loss: 2.8181e-04 - acc: 1.0000\n",
      "Epoch 12/50\n",
      "10/10 [==============================] - 0s 9ms/step - loss: 2.6401e-04 - acc: 1.0000\n",
      "Epoch 13/50\n",
      "10/10 [==============================] - 0s 9ms/step - loss: 2.4836e-04 - acc: 1.0000\n",
      "Epoch 14/50\n",
      "10/10 [==============================] - 0s 9ms/step - loss: 2.3434e-04 - acc: 1.0000\n",
      "Epoch 15/50\n",
      "10/10 [==============================] - 0s 9ms/step - loss: 2.2164e-04 - acc: 1.0000\n",
      "Epoch 16/50\n",
      "10/10 [==============================] - 0s 9ms/step - loss: 2.1013e-04 - acc: 1.0000\n",
      "Epoch 17/50\n",
      "10/10 [==============================] - 0s 9ms/step - loss: 1.9959e-04 - acc: 1.0000\n",
      "Epoch 18/50\n",
      "10/10 [==============================] - 0s 9ms/step - loss: 1.8988e-04 - acc: 1.0000\n",
      "Epoch 19/50\n",
      "10/10 [==============================] - 0s 9ms/step - loss: 1.8090e-04 - acc: 1.0000\n",
      "Epoch 20/50\n",
      "10/10 [==============================] - 0s 9ms/step - loss: 1.7264e-04 - acc: 1.0000\n",
      "Epoch 21/50\n",
      "10/10 [==============================] - 0s 9ms/step - loss: 1.6505e-04 - acc: 1.0000\n",
      "Epoch 22/50\n",
      "10/10 [==============================] - 0s 9ms/step - loss: 1.5797e-04 - acc: 1.0000\n",
      "Epoch 23/50\n",
      "10/10 [==============================] - 0s 9ms/step - loss: 1.5139e-04 - acc: 1.0000\n",
      "Epoch 24/50\n",
      "10/10 [==============================] - 0s 9ms/step - loss: 1.4537e-04 - acc: 1.0000\n",
      "Epoch 25/50\n",
      "10/10 [==============================] - 0s 9ms/step - loss: 1.3980e-04 - acc: 1.0000\n",
      "Epoch 26/50\n",
      "10/10 [==============================] - 0s 9ms/step - loss: 1.3458e-04 - acc: 1.0000\n",
      "Epoch 27/50\n",
      "10/10 [==============================] - 0s 9ms/step - loss: 1.2968e-04 - acc: 1.0000\n",
      "Epoch 28/50\n",
      "10/10 [==============================] - 0s 9ms/step - loss: 1.2504e-04 - acc: 1.0000\n",
      "Epoch 29/50\n",
      "10/10 [==============================] - 0s 9ms/step - loss: 1.2065e-04 - acc: 1.0000\n",
      "Epoch 30/50\n",
      "10/10 [==============================] - 0s 9ms/step - loss: 1.1650e-04 - acc: 1.0000\n",
      "Epoch 31/50\n",
      "10/10 [==============================] - 0s 9ms/step - loss: 1.1256e-04 - acc: 1.0000\n",
      "Epoch 32/50\n",
      "10/10 [==============================] - 0s 9ms/step - loss: 1.0883e-04 - acc: 1.0000\n",
      "Epoch 33/50\n",
      "10/10 [==============================] - 0s 10ms/step - loss: 1.0529e-04 - acc: 1.0000\n",
      "Epoch 34/50\n",
      "10/10 [==============================] - 0s 9ms/step - loss: 1.0193e-04 - acc: 1.0000\n",
      "Epoch 35/50\n",
      "10/10 [==============================] - 0s 9ms/step - loss: 9.8749e-05 - acc: 1.0000\n",
      "Epoch 36/50\n",
      "10/10 [==============================] - 0s 9ms/step - loss: 9.5735e-05 - acc: 1.0000\n",
      "Epoch 37/50\n",
      "10/10 [==============================] - 0s 9ms/step - loss: 9.2857e-05 - acc: 1.0000\n",
      "Epoch 38/50\n",
      "10/10 [==============================] - 0s 9ms/step - loss: 9.0103e-05 - acc: 1.0000\n",
      "Epoch 39/50\n",
      "10/10 [==============================] - 0s 10ms/step - loss: 8.7489e-05 - acc: 1.0000\n",
      "Epoch 40/50\n",
      "10/10 [==============================] - 0s 9ms/step - loss: 8.4981e-05 - acc: 1.0000\n",
      "Epoch 41/50\n",
      "10/10 [==============================] - 0s 9ms/step - loss: 8.2582e-05 - acc: 1.0000\n",
      "Epoch 42/50\n",
      "10/10 [==============================] - 0s 9ms/step - loss: 8.0293e-05 - acc: 1.0000\n",
      "Epoch 43/50\n",
      "10/10 [==============================] - 0s 9ms/step - loss: 7.8123e-05 - acc: 1.0000\n",
      "Epoch 44/50\n",
      "10/10 [==============================] - 0s 10ms/step - loss: 7.6054e-05 - acc: 1.0000\n",
      "Epoch 45/50\n",
      "10/10 [==============================] - 0s 10ms/step - loss: 7.4069e-05 - acc: 1.0000\n",
      "Epoch 46/50\n",
      "10/10 [==============================] - 0s 10ms/step - loss: 7.2182e-05 - acc: 1.0000\n",
      "Epoch 47/50\n",
      "10/10 [==============================] - 0s 9ms/step - loss: 7.0348e-05 - acc: 1.0000\n",
      "Epoch 48/50\n",
      "10/10 [==============================] - 0s 10ms/step - loss: 6.8588e-05 - acc: 1.0000\n",
      "Epoch 49/50\n",
      "10/10 [==============================] - 0s 9ms/step - loss: 6.6903e-05 - acc: 1.0000\n",
      "Epoch 50/50\n",
      "10/10 [==============================] - 0s 9ms/step - loss: 6.5277e-05 - acc: 1.0000\n"
     ]
    },
    {
     "data": {
      "text/plain": [
       "<tensorflow.python.keras.callbacks.History at 0x7fb914471150>"
      ]
     },
     "execution_count": 5,
     "metadata": {},
     "output_type": "execute_result"
    }
   ],
   "source": [
    "tf.model.fit(x_one_hot_eager, y_one_hot_eager, epochs=50,steps_per_epoch=10)"
   ]
  },
  {
   "cell_type": "code",
   "execution_count": 6,
   "metadata": {},
   "outputs": [],
   "source": [
    "predictions = tf.model.predict(x_one_hot_eager,steps=10)\n",
    "predictions = tf.model.predict(x_one_hot_eager,steps=10)"
   ]
  },
  {
   "cell_type": "code",
   "execution_count": 7,
   "metadata": {},
   "outputs": [
    {
     "name": "stdout",
     "output_type": "stream",
     "text": [
      "\tPrediction str:  if you want you\n",
      "\tPrediction str:  if you want you\n",
      "\tPrediction str:  if you want you\n",
      "\tPrediction str:  if you want you\n",
      "\tPrediction str:  if you want you\n",
      "\tPrediction str:  if you want you\n",
      "\tPrediction str:  if you want you\n",
      "\tPrediction str:  if you want you\n",
      "\tPrediction str:  if you want you\n",
      "\tPrediction str:  if you want you\n"
     ]
    }
   ],
   "source": [
    "for i, prediction in enumerate(predictions):\n",
    "    #print char using argmax, dict\n",
    "    result_str = [idx2char[c] for c in np.argmax(prediction, axis=1)]\n",
    "    print(\"\\tPrediction str: \", ''.join(result_str))\n"
   ]
  },
  {
   "cell_type": "code",
   "execution_count": null,
   "metadata": {},
   "outputs": [],
   "source": []
  }
 ],
 "metadata": {
  "kernelspec": {
   "display_name": "Python 3",
   "language": "python",
   "name": "python3"
  },
  "language_info": {
   "codemirror_mode": {
    "name": "ipython",
    "version": 3
   },
   "file_extension": ".py",
   "mimetype": "text/x-python",
   "name": "python",
   "nbconvert_exporter": "python",
   "pygments_lexer": "ipython3",
   "version": "3.7.6"
  }
 },
 "nbformat": 4,
 "nbformat_minor": 4
}
