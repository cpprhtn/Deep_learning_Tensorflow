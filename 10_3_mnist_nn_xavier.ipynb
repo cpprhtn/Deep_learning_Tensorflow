{
 "cells": [
  {
   "cell_type": "code",
   "execution_count": 1,
   "metadata": {},
   "outputs": [
    {
     "name": "stderr",
     "output_type": "stream",
     "text": [
      "/Users/cpprhtn/opt/anaconda3/lib/python3.7/site-packages/tensorflow/python/framework/dtypes.py:526: FutureWarning: Passing (type, 1) or '1type' as a synonym of type is deprecated; in a future version of numpy, it will be understood as (type, (1,)) / '(1,)type'.\n",
      "  _np_qint8 = np.dtype([(\"qint8\", np.int8, 1)])\n",
      "/Users/cpprhtn/opt/anaconda3/lib/python3.7/site-packages/tensorflow/python/framework/dtypes.py:527: FutureWarning: Passing (type, 1) or '1type' as a synonym of type is deprecated; in a future version of numpy, it will be understood as (type, (1,)) / '(1,)type'.\n",
      "  _np_quint8 = np.dtype([(\"quint8\", np.uint8, 1)])\n",
      "/Users/cpprhtn/opt/anaconda3/lib/python3.7/site-packages/tensorflow/python/framework/dtypes.py:528: FutureWarning: Passing (type, 1) or '1type' as a synonym of type is deprecated; in a future version of numpy, it will be understood as (type, (1,)) / '(1,)type'.\n",
      "  _np_qint16 = np.dtype([(\"qint16\", np.int16, 1)])\n",
      "/Users/cpprhtn/opt/anaconda3/lib/python3.7/site-packages/tensorflow/python/framework/dtypes.py:529: FutureWarning: Passing (type, 1) or '1type' as a synonym of type is deprecated; in a future version of numpy, it will be understood as (type, (1,)) / '(1,)type'.\n",
      "  _np_quint16 = np.dtype([(\"quint16\", np.uint16, 1)])\n",
      "/Users/cpprhtn/opt/anaconda3/lib/python3.7/site-packages/tensorflow/python/framework/dtypes.py:530: FutureWarning: Passing (type, 1) or '1type' as a synonym of type is deprecated; in a future version of numpy, it will be understood as (type, (1,)) / '(1,)type'.\n",
      "  _np_qint32 = np.dtype([(\"qint32\", np.int32, 1)])\n",
      "/Users/cpprhtn/opt/anaconda3/lib/python3.7/site-packages/tensorflow/python/framework/dtypes.py:535: FutureWarning: Passing (type, 1) or '1type' as a synonym of type is deprecated; in a future version of numpy, it will be understood as (type, (1,)) / '(1,)type'.\n",
      "  np_resource = np.dtype([(\"resource\", np.ubyte, 1)])\n"
     ]
    },
    {
     "name": "stdout",
     "output_type": "stream",
     "text": [
      "(60000, 28, 28)\n",
      "WARNING:tensorflow:From /Users/cpprhtn/opt/anaconda3/lib/python3.7/site-packages/tensorflow/python/ops/resource_variable_ops.py:435: colocate_with (from tensorflow.python.framework.ops) is deprecated and will be removed in a future version.\n",
      "Instructions for updating:\n",
      "Colocations handled automatically by placer.\n",
      "_________________________________________________________________\n",
      "Layer (type)                 Output Shape              Param #   \n",
      "=================================================================\n",
      "dense (Dense)                (None, 256)               200960    \n",
      "_________________________________________________________________\n",
      "dense_1 (Dense)              (None, 256)               65792     \n",
      "_________________________________________________________________\n",
      "dense_2 (Dense)              (None, 10)                2570      \n",
      "=================================================================\n",
      "Total params: 269,322\n",
      "Trainable params: 269,322\n",
      "Non-trainable params: 0\n",
      "_________________________________________________________________\n",
      "WARNING:tensorflow:From /Users/cpprhtn/opt/anaconda3/lib/python3.7/site-packages/tensorflow/python/ops/math_ops.py:3066: to_int32 (from tensorflow.python.ops.math_ops) is deprecated and will be removed in a future version.\n",
      "Instructions for updating:\n",
      "Use tf.cast instead.\n",
      "Epoch 1/15\n",
      "60000/60000 [==============================] - 2s 36us/sample - loss: 9.3641 - acc: 0.4172\n",
      "Epoch 2/15\n",
      "60000/60000 [==============================] - 2s 34us/sample - loss: 9.0228 - acc: 0.4395\n",
      "Epoch 3/15\n",
      "60000/60000 [==============================] - 2s 34us/sample - loss: 8.7656 - acc: 0.4558\n",
      "Epoch 4/15\n",
      "60000/60000 [==============================] - 2s 32us/sample - loss: 8.8017 - acc: 0.4536\n",
      "Epoch 5/15\n",
      "60000/60000 [==============================] - 2s 39us/sample - loss: 8.8391 - acc: 0.4514\n",
      "Epoch 6/15\n",
      "60000/60000 [==============================] - 2s 32us/sample - loss: 8.6273 - acc: 0.4646\n",
      "Epoch 7/15\n",
      "60000/60000 [==============================] - 2s 31us/sample - loss: 8.6850 - acc: 0.4610\n",
      "Epoch 8/15\n",
      "60000/60000 [==============================] - 2s 31us/sample - loss: 8.5880 - acc: 0.4671\n",
      "Epoch 9/15\n",
      "60000/60000 [==============================] - 2s 33us/sample - loss: 8.7400 - acc: 0.4576\n",
      "Epoch 10/15\n",
      "60000/60000 [==============================] - 2s 31us/sample - loss: 8.6837 - acc: 0.4611\n",
      "Epoch 11/15\n",
      "60000/60000 [==============================] - 2s 33us/sample - loss: 8.6675 - acc: 0.4621\n",
      "Epoch 12/15\n",
      "60000/60000 [==============================] - 2s 33us/sample - loss: 8.5041 - acc: 0.4724\n",
      "Epoch 13/15\n",
      "60000/60000 [==============================] - 2s 35us/sample - loss: 8.7153 - acc: 0.4592\n",
      "Epoch 14/15\n",
      "60000/60000 [==============================] - 2s 31us/sample - loss: 8.6646 - acc: 0.4624\n",
      "Epoch 15/15\n",
      "60000/60000 [==============================] - 2s 30us/sample - loss: 7.9623 - acc: 0.5058\n",
      "index:  9888 actual y:  6 predicted y:  8\n",
      "index:  1035 actual y:  6 predicted y:  9\n",
      "index:  4145 actual y:  8 predicted y:  3\n",
      "index:  1710 actual y:  7 predicted y:  9\n",
      "index:  3263 actual y:  8 predicted y:  8\n",
      "index:  9742 actual y:  3 predicted y:  3\n",
      "index:  4381 actual y:  5 predicted y:  5\n",
      "index:  7116 actual y:  6 predicted y:  8\n",
      "index:  755 actual y:  1 predicted y:  1\n",
      "index:  7287 actual y:  8 predicted y:  8\n"
     ]
    }
   ],
   "source": [
    "import numpy as np\n",
    "import random\n",
    "import tensorflow as tf\n",
    "\n",
    "learning_rate = 0.001\n",
    "batch_size = 100\n",
    "training_epochs = 15\n",
    "nb_classes = 10\n",
    "\n",
    "(x_train, y_train), (x_test2, y_test) = tf.keras.datasets.mnist.load_data()\n",
    "print(x_train.shape)\n",
    "\n",
    "x_train = x_train.reshape(x_train.shape[0], 28 * 28)\n",
    "x_test = x_test2.reshape(x_test2.shape[0], 28 * 28)\n",
    "\n",
    "y_train = tf.keras.utils.to_categorical(y_train, nb_classes)\n",
    "y_test = tf.keras.utils.to_categorical(y_test, nb_classes)\n",
    "\n",
    "tf.model = tf.keras.Sequential()\n",
    "\n",
    "tf.model.add(tf.keras.layers.Dense(input_dim=784, units=256, kernel_initializer='glorot_normal', activation='relu'))\n",
    "tf.model.add(tf.keras.layers.Dense(units=256, kernel_initializer='glorot_normal', activation='relu'))\n",
    "tf.model.add(tf.keras.layers.Dense(units=nb_classes, kernel_initializer='glorot_normal', activation='softmax'))\n",
    "tf.model.compile(loss='categorical_crossentropy',\n",
    "                 optimizer=tf.keras.optimizers.Adam(lr=learning_rate), metrics=['accuracy'])\n",
    "tf.model.summary()\n",
    "\n",
    "history = tf.model.fit(x_train, y_train, batch_size=batch_size, epochs=training_epochs)\n",
    "\n",
    "#predict 10 random hand-writing data\n",
    "y_predicted = tf.model.predict(x_test)\n",
    "for x in range(0, 10):\n",
    "    random_index = random.randint(0, x_test.shape[0]-1)\n",
    "    print(\"index: \", random_index,\n",
    "          \"actual y: \", np.argmax(y_test[random_index]),\n",
    "          \"predicted y: \", np.argmax(y_predicted[random_index]))"
   ]
  },
  {
   "cell_type": "code",
   "execution_count": 2,
   "metadata": {},
   "outputs": [
    {
     "name": "stdout",
     "output_type": "stream",
     "text": [
      "10000/10000 [==============================] - 0s 23us/sample - loss: 7.4187 - acc: 0.5395\n",
      "loss:  7.418650925445557\n",
      "accuracy 0.5395\n"
     ]
    }
   ],
   "source": [
    "evaluation = tf.model.evaluate(x_test, y_test)\n",
    "print('loss: ', evaluation[0])\n",
    "print('accuracy', evaluation[1])"
   ]
  },
  {
   "cell_type": "code",
   "execution_count": null,
   "metadata": {},
   "outputs": [],
   "source": []
  }
 ],
 "metadata": {
  "kernelspec": {
   "display_name": "Python 3",
   "language": "python",
   "name": "python3"
  },
  "language_info": {
   "codemirror_mode": {
    "name": "ipython",
    "version": 3
   },
   "file_extension": ".py",
   "mimetype": "text/x-python",
   "name": "python",
   "nbconvert_exporter": "python",
   "pygments_lexer": "ipython3",
   "version": "3.7.6"
  }
 },
 "nbformat": 4,
 "nbformat_minor": 4
}
