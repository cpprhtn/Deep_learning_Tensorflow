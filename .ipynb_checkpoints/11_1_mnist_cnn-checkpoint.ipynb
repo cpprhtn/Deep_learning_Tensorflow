{
 "cells": [
  {
   "cell_type": "code",
   "execution_count": 2,
   "metadata": {},
   "outputs": [
    {
     "name": "stdout",
     "output_type": "stream",
     "text": [
      "_________________________________________________________________\n",
      "Layer (type)                 Output Shape              Param #   \n",
      "=================================================================\n",
      "conv2d_2 (Conv2D)            (None, 26, 26, 16)        160       \n",
      "_________________________________________________________________\n",
      "max_pooling2d_2 (MaxPooling2 (None, 13, 13, 16)        0         \n",
      "_________________________________________________________________\n",
      "conv2d_3 (Conv2D)            (None, 11, 11, 32)        4640      \n",
      "_________________________________________________________________\n",
      "max_pooling2d_3 (MaxPooling2 (None, 5, 5, 32)          0         \n",
      "_________________________________________________________________\n",
      "flatten_1 (Flatten)          (None, 800)               0         \n",
      "_________________________________________________________________\n",
      "dense_1 (Dense)              (None, 10)                8010      \n",
      "=================================================================\n",
      "Total params: 12,810\n",
      "Trainable params: 12,810\n",
      "Non-trainable params: 0\n",
      "_________________________________________________________________\n",
      "Epoch 1/12\n",
      "60000/60000 [==============================] - 10s 160us/sample - loss: 0.3540 - acc: 0.9002\n",
      "Epoch 2/12\n",
      "60000/60000 [==============================] - 8s 135us/sample - loss: 0.1055 - acc: 0.9685\n",
      "Epoch 3/12\n",
      "60000/60000 [==============================] - 8s 139us/sample - loss: 0.0787 - acc: 0.9757\n",
      "Epoch 4/12\n",
      "60000/60000 [==============================] - 8s 131us/sample - loss: 0.0657 - acc: 0.9797\n",
      "Epoch 5/12\n",
      "60000/60000 [==============================] - 8s 134us/sample - loss: 0.0581 - acc: 0.9825\n",
      "Epoch 6/12\n",
      "60000/60000 [==============================] - 8s 134us/sample - loss: 0.0517 - acc: 0.9842\n",
      "Epoch 7/12\n",
      "60000/60000 [==============================] - 8s 127us/sample - loss: 0.0469 - acc: 0.9860\n",
      "Epoch 8/12\n",
      "60000/60000 [==============================] - 8s 136us/sample - loss: 0.0418 - acc: 0.9873\n",
      "Epoch 9/12\n",
      "60000/60000 [==============================] - 7s 125us/sample - loss: 0.0395 - acc: 0.9883\n",
      "Epoch 10/12\n",
      "60000/60000 [==============================] - 9s 144us/sample - loss: 0.0369 - acc: 0.9885\n",
      "Epoch 11/12\n",
      "60000/60000 [==============================] - 8s 139us/sample - loss: 0.0335 - acc: 0.9899\n",
      "Epoch 12/12\n",
      "60000/60000 [==============================] - 7s 121us/sample - loss: 0.0318 - acc: 0.9901\n",
      "index:  5486 actual y:  1 predicted y:  1\n",
      "index:  2274 actual y:  9 predicted y:  9\n",
      "index:  2045 actual y:  3 predicted y:  3\n",
      "index:  1614 actual y:  4 predicted y:  4\n",
      "index:  6619 actual y:  7 predicted y:  7\n",
      "index:  4381 actual y:  5 predicted y:  5\n",
      "index:  2453 actual y:  3 predicted y:  3\n",
      "index:  4860 actual y:  4 predicted y:  4\n",
      "index:  4004 actual y:  3 predicted y:  3\n",
      "index:  2983 actual y:  9 predicted y:  9\n"
     ]
    }
   ],
   "source": [
    "import numpy as np\n",
    "import tensorflow as tf\n",
    "import random\n",
    "\n",
    "mnist = tf.keras.datasets.mnist\n",
    "\n",
    "(x_train, y_train), (x_test, y_test) = mnist.load_data()\n",
    "x_test = x_test / 255\n",
    "x_train = x_train / 255\n",
    "x_train = x_train.reshape(x_train.shape[0], 28, 28, 1)\n",
    "x_test = x_test.reshape(x_test.shape[0], 28, 28, 1)\n",
    "\n",
    "#one hot encode\n",
    "y_train = tf.keras.utils.to_categorical(y_train, 10)\n",
    "y_test = tf.keras.utils.to_categorical(y_test, 10)\n",
    "\n",
    "#hyper parameters\n",
    "learning_rate = 0.001\n",
    "training_epochs = 12\n",
    "batch_size = 128\n",
    "\n",
    "tf.model = tf.keras.Sequential()\n",
    "#L1\n",
    "tf.model.add(tf.keras.layers.Conv2D(filters=16, kernel_size=(3, 3), input_shape=(28, 28, 1), activation='relu'))\n",
    "tf.model.add(tf.keras.layers.MaxPooling2D(pool_size=(2, 2)))\n",
    "\n",
    "#L2\n",
    "tf.model.add(tf.keras.layers.Conv2D(filters=32, kernel_size=(3, 3), activation='relu'))\n",
    "tf.model.add(tf.keras.layers.MaxPooling2D(pool_size=(2, 2)))\n",
    "\n",
    "#L3 fully connected\n",
    "tf.model.add(tf.keras.layers.Flatten())\n",
    "tf.model.add(tf.keras.layers.Dense(units=10, kernel_initializer='glorot_normal', activation='softmax'))\n",
    "\n",
    "tf.model.compile(loss='categorical_crossentropy', optimizer=tf.keras.optimizers.Adam(lr=learning_rate), metrics=['accuracy'])\n",
    "tf.model.summary()\n",
    "\n",
    "tf.model.fit(x_train, y_train, batch_size=batch_size, epochs=training_epochs)\n",
    "\n",
    "y_predicted = tf.model.predict(x_test)\n",
    "for x in range(0, 10):\n",
    "    random_index = random.randint(0, x_test.shape[0]-1)\n",
    "    print(\"index: \", random_index,\n",
    "          \"actual y: \", np.argmax(y_test[random_index]),\n",
    "          \"predicted y: \", np.argmax(y_predicted[random_index]))"
   ]
  },
  {
   "cell_type": "code",
   "execution_count": 3,
   "metadata": {},
   "outputs": [
    {
     "name": "stdout",
     "output_type": "stream",
     "text": [
      "10000/10000 [==============================] - 1s 59us/sample - loss: 0.0432 - acc: 0.9848\n",
      "loss:  0.04315592826837674\n",
      "accuracy 0.9848\n"
     ]
    }
   ],
   "source": [
    "evaluation = tf.model.evaluate(x_test, y_test)\n",
    "print('loss: ', evaluation[0])\n",
    "print('accuracy', evaluation[1])"
   ]
  },
  {
   "cell_type": "code",
   "execution_count": null,
   "metadata": {},
   "outputs": [],
   "source": []
  }
 ],
 "metadata": {
  "kernelspec": {
   "display_name": "Python 3",
   "language": "python",
   "name": "python3"
  },
  "language_info": {
   "codemirror_mode": {
    "name": "ipython",
    "version": 3
   },
   "file_extension": ".py",
   "mimetype": "text/x-python",
   "name": "python",
   "nbconvert_exporter": "python",
   "pygments_lexer": "ipython3",
   "version": "3.7.6"
  }
 },
 "nbformat": 4,
 "nbformat_minor": 4
}
