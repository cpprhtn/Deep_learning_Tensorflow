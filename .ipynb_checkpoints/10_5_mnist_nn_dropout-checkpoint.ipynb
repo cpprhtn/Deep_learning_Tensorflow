{
 "cells": [
  {
   "cell_type": "code",
   "execution_count": 2,
   "metadata": {},
   "outputs": [
    {
     "name": "stdout",
     "output_type": "stream",
     "text": [
      "(60000, 28, 28)\n",
      "_________________________________________________________________\n",
      "Layer (type)                 Output Shape              Param #   \n",
      "=================================================================\n",
      "dense_5 (Dense)              (None, 512)               401920    \n",
      "_________________________________________________________________\n",
      "dropout_4 (Dropout)          (None, 512)               0         \n",
      "_________________________________________________________________\n",
      "dense_6 (Dense)              (None, 512)               262656    \n",
      "_________________________________________________________________\n",
      "dropout_5 (Dropout)          (None, 512)               0         \n",
      "_________________________________________________________________\n",
      "dense_7 (Dense)              (None, 512)               262656    \n",
      "_________________________________________________________________\n",
      "dropout_6 (Dropout)          (None, 512)               0         \n",
      "_________________________________________________________________\n",
      "dense_8 (Dense)              (None, 512)               262656    \n",
      "_________________________________________________________________\n",
      "dropout_7 (Dropout)          (None, 512)               0         \n",
      "_________________________________________________________________\n",
      "dense_9 (Dense)              (None, 10)                5130      \n",
      "=================================================================\n",
      "Total params: 1,195,018\n",
      "Trainable params: 1,195,018\n",
      "Non-trainable params: 0\n",
      "_________________________________________________________________\n",
      "Epoch 1/15\n",
      "60000/60000 [==============================] - 10s 165us/sample - loss: 14.2914 - acc: 0.1131\n",
      "Epoch 2/15\n",
      "60000/60000 [==============================] - 9s 144us/sample - loss: 14.3070 - acc: 0.1124\n",
      "Epoch 3/15\n",
      "60000/60000 [==============================] - 8s 140us/sample - loss: 14.3070 - acc: 0.1124\n",
      "Epoch 4/15\n",
      "60000/60000 [==============================] - 9s 143us/sample - loss: 14.3070 - acc: 0.1124\n",
      "Epoch 5/15\n",
      "60000/60000 [==============================] - 8s 136us/sample - loss: 14.3070 - acc: 0.1124\n",
      "Epoch 6/15\n",
      "60000/60000 [==============================] - 8s 141us/sample - loss: 14.3070 - acc: 0.1124\n",
      "Epoch 7/15\n",
      "60000/60000 [==============================] - 8s 136us/sample - loss: 14.3070 - acc: 0.1124\n",
      "Epoch 8/15\n",
      "60000/60000 [==============================] - 8s 131us/sample - loss: 14.3070 - acc: 0.1124\n",
      "Epoch 9/15\n",
      "60000/60000 [==============================] - 8s 131us/sample - loss: 14.3070 - acc: 0.1124\n",
      "Epoch 10/15\n",
      "60000/60000 [==============================] - 9s 142us/sample - loss: 14.3070 - acc: 0.1124\n",
      "Epoch 11/15\n",
      "60000/60000 [==============================] - 8s 137us/sample - loss: 14.3070 - acc: 0.1124\n",
      "Epoch 12/15\n",
      "60000/60000 [==============================] - 8s 138us/sample - loss: 14.3070 - acc: 0.1124\n",
      "Epoch 13/15\n",
      "60000/60000 [==============================] - 8s 140us/sample - loss: 14.3070 - acc: 0.1124\n",
      "Epoch 14/15\n",
      "60000/60000 [==============================] - 8s 138us/sample - loss: 14.3070 - acc: 0.1124\n",
      "Epoch 15/15\n",
      "60000/60000 [==============================] - 8s 141us/sample - loss: 14.3070 - acc: 0.1124\n",
      "index:  1304 actual y:  9 predicted y:  1\n",
      "index:  3247 actual y:  4 predicted y:  1\n",
      "index:  721 actual y:  0 predicted y:  1\n",
      "index:  1791 actual y:  1 predicted y:  1\n",
      "index:  4113 actual y:  2 predicted y:  1\n",
      "index:  7874 actual y:  9 predicted y:  1\n",
      "index:  6350 actual y:  6 predicted y:  1\n",
      "index:  4112 actual y:  8 predicted y:  1\n",
      "index:  1193 actual y:  1 predicted y:  1\n",
      "index:  7952 actual y:  9 predicted y:  1\n"
     ]
    }
   ],
   "source": [
    "import numpy as np\n",
    "import random\n",
    "import tensorflow as tf\n",
    "\n",
    "learning_rate = 0.001\n",
    "batch_size = 100\n",
    "training_epochs = 15\n",
    "nb_classes = 10\n",
    "drop_rate = 0.3\n",
    "(x_train, y_train), (x_test, y_test) = tf.keras.datasets.mnist.load_data()\n",
    "print(x_train.shape)\n",
    "\n",
    "x_train = x_train.reshape(x_train.shape[0], 28 * 28)\n",
    "x_test = x_test.reshape(x_test.shape[0], 28 * 28)\n",
    "\n",
    "y_train = tf.keras.utils.to_categorical(y_train, nb_classes)\n",
    "y_test = tf.keras.utils.to_categorical(y_test, nb_classes)\n",
    "\n",
    "tf.model = tf.keras.Sequential()\n",
    "\n",
    "tf.model.add(tf.keras.layers.Dense(input_dim=784, units=512, kernel_initializer='glorot_normal', activation='relu'))\n",
    "tf.model.add(tf.keras.layers.Dropout(drop_rate))\n",
    "tf.model.add(tf.keras.layers.Dense(units=512, kernel_initializer='glorot_normal', activation='relu'))\n",
    "tf.model.add(tf.keras.layers.Dropout(drop_rate))\n",
    "tf.model.add(tf.keras.layers.Dense(units=512, kernel_initializer='glorot_normal', activation='relu'))\n",
    "tf.model.add(tf.keras.layers.Dropout(drop_rate))\n",
    "tf.model.add(tf.keras.layers.Dense(units=512, kernel_initializer='glorot_normal', activation='relu'))\n",
    "tf.model.add(tf.keras.layers.Dropout(drop_rate))\n",
    "tf.model.add(tf.keras.layers.Dense(units=nb_classes, kernel_initializer='glorot_normal', activation='softmax'))\n",
    "tf.model.compile(loss='categorical_crossentropy',\n",
    "                 optimizer=tf.keras.optimizers.Adam(lr=learning_rate), metrics=['accuracy'])\n",
    "tf.model.summary()\n",
    "\n",
    "history = tf.model.fit(x_train, y_train, batch_size=batch_size, epochs=training_epochs)\n",
    "\n",
    "\n",
    "y_predicted = tf.model.predict(x_test)\n",
    "for x in range(0, 10):\n",
    "    random_index = random.randint(0, x_test.shape[0]-1)\n",
    "    print(\"index: \", random_index,\n",
    "          \"actual y: \", np.argmax(y_test[random_index]),\n",
    "          \"predicted y: \", np.argmax(y_predicted[random_index]))"
   ]
  },
  {
   "cell_type": "code",
   "execution_count": 3,
   "metadata": {},
   "outputs": [
    {
     "name": "stdout",
     "output_type": "stream",
     "text": [
      "10000/10000 [==============================] - 1s 64us/sample - loss: 14.2887 - acc: 0.1135\n",
      "loss:  14.28869146270752\n",
      "accuracy 0.1135\n"
     ]
    }
   ],
   "source": [
    "#evaluate test set\n",
    "evaluation = tf.model.evaluate(x_test, y_test)\n",
    "print('loss: ', evaluation[0])\n",
    "print('accuracy', evaluation[1])"
   ]
  },
  {
   "cell_type": "code",
   "execution_count": null,
   "metadata": {},
   "outputs": [],
   "source": []
  }
 ],
 "metadata": {
  "kernelspec": {
   "display_name": "Python 3",
   "language": "python",
   "name": "python3"
  },
  "language_info": {
   "codemirror_mode": {
    "name": "ipython",
    "version": 3
   },
   "file_extension": ".py",
   "mimetype": "text/x-python",
   "name": "python",
   "nbconvert_exporter": "python",
   "pygments_lexer": "ipython3",
   "version": "3.7.6"
  }
 },
 "nbformat": 4,
 "nbformat_minor": 4
}
