{
 "cells": [
  {
   "cell_type": "code",
   "execution_count": 3,
   "metadata": {
    "scrolled": true
   },
   "outputs": [
    {
     "name": "stdout",
     "output_type": "stream",
     "text": [
      "(60000, 28, 28)\n",
      "_________________________________________________________________\n",
      "Layer (type)                 Output Shape              Param #   \n",
      "=================================================================\n",
      "dense_2 (Dense)              (None, 10)                7850      \n",
      "=================================================================\n",
      "Total params: 7,850\n",
      "Trainable params: 7,850\n",
      "Non-trainable params: 0\n",
      "_________________________________________________________________\n",
      "Epoch 1/15\n",
      "60000/60000 [==============================] - 1s 13us/sample - loss: 0.6296 - acc: 0.8421\n",
      "Epoch 2/15\n",
      "60000/60000 [==============================] - 1s 12us/sample - loss: 0.3458 - acc: 0.9058\n",
      "Epoch 3/15\n",
      "60000/60000 [==============================] - 1s 10us/sample - loss: 0.3091 - acc: 0.9137\n",
      "Epoch 4/15\n",
      "60000/60000 [==============================] - 1s 9us/sample - loss: 0.2923 - acc: 0.9190\n",
      "Epoch 5/15\n",
      "60000/60000 [==============================] - 1s 10us/sample - loss: 0.2817 - acc: 0.9219\n",
      "Epoch 6/15\n",
      "60000/60000 [==============================] - 1s 13us/sample - loss: 0.2743 - acc: 0.9241\n",
      "Epoch 7/15\n",
      "60000/60000 [==============================] - 1s 11us/sample - loss: 0.2697 - acc: 0.9243\n",
      "Epoch 8/15\n",
      "60000/60000 [==============================] - 1s 10us/sample - loss: 0.2654 - acc: 0.9261\n",
      "Epoch 9/15\n",
      "60000/60000 [==============================] - 1s 9us/sample - loss: 0.2618 - acc: 0.9270\n",
      "Epoch 10/15\n",
      "60000/60000 [==============================] - 1s 9us/sample - loss: 0.2588 - acc: 0.9284\n",
      "Epoch 11/15\n",
      "60000/60000 [==============================] - 1s 9us/sample - loss: 0.2562 - acc: 0.9294\n",
      "Epoch 12/15\n",
      "60000/60000 [==============================] - 1s 9us/sample - loss: 0.2544 - acc: 0.9296\n",
      "Epoch 13/15\n",
      "60000/60000 [==============================] - 1s 9us/sample - loss: 0.2525 - acc: 0.9303\n",
      "Epoch 14/15\n",
      "60000/60000 [==============================] - 1s 9us/sample - loss: 0.2510 - acc: 0.9305\n",
      "Epoch 15/15\n",
      "60000/60000 [==============================] - 1s 9us/sample - loss: 0.2497 - acc: 0.9308\n"
     ]
    }
   ],
   "source": [
    "import tensorflow as tf\n",
    "from tensorflow.keras import optimizers\n",
    "\n",
    "learning_rate = 0.001\n",
    "batch_size = 100\n",
    "training_epochs = 15\n",
    "nb_classes = 10\n",
    "\n",
    "mnist = tf.keras.datasets.mnist\n",
    "\n",
    "(x_train, y_train), (x_test, y_test) = mnist.load_data()\n",
    "#normalizing data\n",
    "x_train, x_test = x_train / 255.0, x_test / 255.0\n",
    "\n",
    "#change data shape\n",
    "print(x_train.shape)  #(60000, 28, 28)\n",
    "x_train = x_train.reshape(x_train.shape[0], x_train.shape[1] * x_train.shape[2])\n",
    "x_test = x_test.reshape(x_test.shape[0], x_test.shape[1] * x_test.shape[2])\n",
    "\n",
    "#change result to one-hot encoding\n",
    "y_train = tf.keras.utils.to_categorical(y_train, 10)\n",
    "y_test = tf.keras.utils.to_categorical(y_test, 10)\n",
    "\n",
    "\n",
    "tf.model = tf.keras.Sequential()\n",
    "tf.model.add(tf.keras.layers.Dense(units=10, input_dim=784, activation='softmax'))\n",
    "tf.model.compile(loss='categorical_crossentropy', optimizer=optimizers.Adam(0.001), metrics=['accuracy'])\n",
    "tf.model.summary()\n",
    "\n",
    "history = tf.model.fit(x_train, y_train, batch_size=batch_size, epochs=training_epochs)\n"
   ]
  },
  {
   "cell_type": "code",
   "execution_count": 4,
   "metadata": {
    "scrolled": true
   },
   "outputs": [
    {
     "name": "stdout",
     "output_type": "stream",
     "text": [
      "Prediction: \n",
      " [[2.2843371e-06 9.3293723e-12 8.2555907e-06 ... 9.9552828e-01\n",
      "  2.0649935e-05 4.2649312e-04]\n",
      " [1.7985665e-04 1.4441954e-06 9.9410444e-01 ... 5.5221176e-18\n",
      "  3.7010894e-05 3.7707095e-14]\n",
      " [1.6260072e-06 9.7626209e-01 1.4699374e-02 ... 9.1018755e-04\n",
      "  3.5620045e-03 2.6104460e-04]\n",
      " ...\n",
      " [9.5003152e-09 7.6602777e-09 5.6065155e-06 ... 1.6780680e-03\n",
      "  6.5911347e-03 2.1632263e-02]\n",
      " [8.9293295e-08 2.0126470e-07 2.0482719e-07 ... 7.8275704e-08\n",
      "  6.9141751e-03 1.3922279e-07]\n",
      " [5.8901594e-07 1.6829244e-14 5.6432513e-05 ... 6.2200906e-13\n",
      "  2.2426983e-08 6.1001496e-11]]\n"
     ]
    }
   ],
   "source": [
    "predictions = tf.model.predict(x_test)\n",
    "print('Prediction: \\n', predictions)"
   ]
  },
  {
   "cell_type": "code",
   "execution_count": 5,
   "metadata": {},
   "outputs": [
    {
     "name": "stdout",
     "output_type": "stream",
     "text": [
      "60000/60000 [==============================] - 1s 14us/sample - loss: 0.2444 - acc: 0.9326\n",
      "Accuracy:  0.9326\n"
     ]
    }
   ],
   "source": [
    "score = tf.model.evaluate(x_train, y_train)\n",
    "print('Accuracy: ', score[1])"
   ]
  },
  {
   "cell_type": "code",
   "execution_count": null,
   "metadata": {},
   "outputs": [],
   "source": []
  }
 ],
 "metadata": {
  "kernelspec": {
   "display_name": "Python 3",
   "language": "python",
   "name": "python3"
  },
  "language_info": {
   "codemirror_mode": {
    "name": "ipython",
    "version": 3
   },
   "file_extension": ".py",
   "mimetype": "text/x-python",
   "name": "python",
   "nbconvert_exporter": "python",
   "pygments_lexer": "ipython3",
   "version": "3.7.6"
  }
 },
 "nbformat": 4,
 "nbformat_minor": 4
}
