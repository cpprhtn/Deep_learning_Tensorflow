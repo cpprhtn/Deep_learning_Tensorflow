{
 "cells": [
  {
   "cell_type": "code",
   "execution_count": 2,
   "metadata": {},
   "outputs": [
    {
     "name": "stdout",
     "output_type": "stream",
     "text": [
      "(60000, 28, 28)\n",
      "_________________________________________________________________\n",
      "Layer (type)                 Output Shape              Param #   \n",
      "=================================================================\n",
      "dense_3 (Dense)              (None, 256)               200960    \n",
      "_________________________________________________________________\n",
      "dense_4 (Dense)              (None, 256)               65792     \n",
      "_________________________________________________________________\n",
      "dense_5 (Dense)              (None, 10)                2570      \n",
      "=================================================================\n",
      "Total params: 269,322\n",
      "Trainable params: 269,322\n",
      "Non-trainable params: 0\n",
      "_________________________________________________________________\n",
      "Epoch 1/15\n",
      "60000/60000 [==============================] - 3s 42us/sample - loss: 9.8593 - acc: 0.3864\n",
      "Epoch 2/15\n",
      "60000/60000 [==============================] - 2s 39us/sample - loss: 8.8694 - acc: 0.4491\n",
      "Epoch 3/15\n",
      "60000/60000 [==============================] - 2s 35us/sample - loss: 8.7863 - acc: 0.4544\n",
      "Epoch 4/15\n",
      "60000/60000 [==============================] - 2s 35us/sample - loss: 8.9829 - acc: 0.4424\n",
      "Epoch 5/15\n",
      "60000/60000 [==============================] - 2s 35us/sample - loss: 8.8041 - acc: 0.4536\n",
      "Epoch 6/15\n",
      "60000/60000 [==============================] - 2s 34us/sample - loss: 8.8420 - acc: 0.4512\n",
      "Epoch 7/15\n",
      "60000/60000 [==============================] - 2s 30us/sample - loss: 8.6023 - acc: 0.4661\n",
      "Epoch 8/15\n",
      "60000/60000 [==============================] - 2s 32us/sample - loss: 8.7007 - acc: 0.4600\n",
      "Epoch 9/15\n",
      "60000/60000 [==============================] - 2s 31us/sample - loss: 8.9734 - acc: 0.4432\n",
      "Epoch 10/15\n",
      "60000/60000 [==============================] - 2s 30us/sample - loss: 8.8885 - acc: 0.4484\n",
      "Epoch 11/15\n",
      "60000/60000 [==============================] - 2s 32us/sample - loss: 8.6097 - acc: 0.4657\n",
      "Epoch 12/15\n",
      "60000/60000 [==============================] - 2s 31us/sample - loss: 8.7858 - acc: 0.4548\n",
      "Epoch 13/15\n",
      "60000/60000 [==============================] - 2s 30us/sample - loss: 8.8170 - acc: 0.4528\n",
      "Epoch 14/15\n",
      "60000/60000 [==============================] - 2s 30us/sample - loss: 8.6307 - acc: 0.4645\n",
      "Epoch 15/15\n",
      "60000/60000 [==============================] - 2s 30us/sample - loss: 8.6402 - acc: 0.4639\n",
      "index:  3757 actual y:  8 predicted y:  5\n",
      "index:  7304 actual y:  5 predicted y:  5\n",
      "index:  7300 actual y:  7 predicted y:  7\n",
      "index:  6039 actual y:  9 predicted y:  7\n",
      "index:  9429 actual y:  3 predicted y:  8\n",
      "index:  4420 actual y:  5 predicted y:  5\n",
      "index:  5507 actual y:  2 predicted y:  1\n",
      "index:  8809 actual y:  1 predicted y:  1\n",
      "index:  654 actual y:  5 predicted y:  5\n",
      "index:  7302 actual y:  8 predicted y:  8\n",
      "10000/10000 [==============================] - 0s 24us/sample - loss: 8.5613 - acc: 0.4688\n",
      "loss:  8.561348677062988\n",
      "accuracy 0.4688\n"
     ]
    }
   ],
   "source": [
    "import numpy as np\n",
    "import random\n",
    "import tensorflow as tf\n",
    "\n",
    "random.seed(777)\n",
    "learning_rate = 0.001\n",
    "batch_size = 100\n",
    "training_epochs = 15\n",
    "nb_classes = 10\n",
    "\n",
    "(x_train, y_train), (x_test2, y_test) = tf.keras.datasets.mnist.load_data()\n",
    "print(x_train.shape)\n",
    "\n",
    "x_train = x_train.reshape(x_train.shape[0], 28 * 28)\n",
    "x_test = x_test2.reshape(x_test2.shape[0], 28 * 28)\n",
    "\n",
    "y_train = tf.keras.utils.to_categorical(y_train, nb_classes)\n",
    "y_test = tf.keras.utils.to_categorical(y_test, nb_classes)\n",
    "\n",
    "tf.model = tf.keras.Sequential()\n",
    "tf.model.add(tf.keras.layers.Dense(input_dim=784, units=256, activation='relu'))\n",
    "tf.model.add(tf.keras.layers.Dense(units=256, activation='relu'))\n",
    "tf.model.add(tf.keras.layers.Dense(units=nb_classes, activation='softmax'))\n",
    "tf.model.compile(loss='categorical_crossentropy',\n",
    "                 optimizer=tf.keras.optimizers.Adam(lr=learning_rate), metrics=['accuracy'])\n",
    "tf.model.summary()\n",
    "\n",
    "tf.model.fit(x_train, y_train, batch_size=batch_size, epochs=training_epochs)\n",
    "\n",
    "#predict 10 random hand-writing data\n",
    "y_predicted = tf.model.predict(x_test)\n",
    "for x in range(0, 10):\n",
    "    random_index = random.randint(0, x_test.shape[0]-1)\n",
    "    print(\"index: \", random_index,\n",
    "          \"actual y: \", np.argmax(y_test[random_index]),\n",
    "          \"predicted y: \", np.argmax(y_predicted[random_index]))\n",
    "\n",
    "#evaluate test set\n",
    "evaluation = tf.model.evaluate(x_test, y_test)\n",
    "print('loss: ', evaluation[0])\n",
    "print('accuracy', evaluation[1])"
   ]
  },
  {
   "cell_type": "code",
   "execution_count": 3,
   "metadata": {},
   "outputs": [
    {
     "name": "stdout",
     "output_type": "stream",
     "text": [
      "10000/10000 [==============================] - 0s 21us/sample - loss: 8.5613 - acc: 0.4688\n",
      "loss:  8.561348677062988\n",
      "accuracy 0.4688\n"
     ]
    }
   ],
   "source": [
    "evaluation = tf.model.evaluate(x_test, y_test)\n",
    "print('loss: ', evaluation[0])\n",
    "print('accuracy', evaluation[1])"
   ]
  },
  {
   "cell_type": "code",
   "execution_count": null,
   "metadata": {},
   "outputs": [],
   "source": []
  }
 ],
 "metadata": {
  "kernelspec": {
   "display_name": "Python 3",
   "language": "python",
   "name": "python3"
  },
  "language_info": {
   "codemirror_mode": {
    "name": "ipython",
    "version": 3
   },
   "file_extension": ".py",
   "mimetype": "text/x-python",
   "name": "python",
   "nbconvert_exporter": "python",
   "pygments_lexer": "ipython3",
   "version": "3.7.6"
  }
 },
 "nbformat": 4,
 "nbformat_minor": 4
}
