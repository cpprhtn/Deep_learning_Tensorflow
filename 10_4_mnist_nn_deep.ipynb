{
 "cells": [
  {
   "cell_type": "code",
   "execution_count": 2,
   "metadata": {},
   "outputs": [
    {
     "name": "stdout",
     "output_type": "stream",
     "text": [
      "(60000, 28, 28)\n",
      "_________________________________________________________________\n",
      "Layer (type)                 Output Shape              Param #   \n",
      "=================================================================\n",
      "dense_5 (Dense)              (None, 512)               401920    \n",
      "_________________________________________________________________\n",
      "dense_6 (Dense)              (None, 512)               262656    \n",
      "_________________________________________________________________\n",
      "dense_7 (Dense)              (None, 512)               262656    \n",
      "_________________________________________________________________\n",
      "dense_8 (Dense)              (None, 512)               262656    \n",
      "_________________________________________________________________\n",
      "dense_9 (Dense)              (None, 10)                5130      \n",
      "=================================================================\n",
      "Total params: 1,195,018\n",
      "Trainable params: 1,195,018\n",
      "Non-trainable params: 0\n",
      "_________________________________________________________________\n",
      "Epoch 1/15\n",
      "60000/60000 [==============================] - 10s 162us/sample - loss: 14.0881 - acc: 0.1257\n",
      "Epoch 2/15\n",
      "60000/60000 [==============================] - 8s 125us/sample - loss: 14.4351 - acc: 0.1044\n",
      "Epoch 3/15\n",
      "60000/60000 [==============================] - 9s 155us/sample - loss: 14.4351 - acc: 0.1044\n",
      "Epoch 4/15\n",
      "60000/60000 [==============================] - 8s 139us/sample - loss: 14.4351 - acc: 0.1044\n",
      "Epoch 5/15\n",
      "60000/60000 [==============================] - 8s 129us/sample - loss: 14.4351 - acc: 0.1044\n",
      "Epoch 6/15\n",
      "60000/60000 [==============================] - 8s 127us/sample - loss: 14.4351 - acc: 0.1044\n",
      "Epoch 7/15\n",
      "60000/60000 [==============================] - 8s 128us/sample - loss: 14.4351 - acc: 0.1044\n",
      "Epoch 8/15\n",
      "60000/60000 [==============================] - 7s 125us/sample - loss: 14.4351 - acc: 0.1044\n",
      "Epoch 9/15\n",
      "60000/60000 [==============================] - 7s 122us/sample - loss: 14.4351 - acc: 0.1044\n",
      "Epoch 10/15\n",
      "60000/60000 [==============================] - 7s 125us/sample - loss: 14.4351 - acc: 0.1044\n",
      "Epoch 11/15\n",
      "60000/60000 [==============================] - 8s 125us/sample - loss: 14.4351 - acc: 0.1044\n",
      "Epoch 12/15\n",
      "60000/60000 [==============================] - 8s 126us/sample - loss: 14.4351 - acc: 0.1044\n",
      "Epoch 13/15\n",
      "60000/60000 [==============================] - 8s 129us/sample - loss: 14.4351 - acc: 0.1044\n",
      "Epoch 14/15\n",
      "60000/60000 [==============================] - 7s 122us/sample - loss: 14.4351 - acc: 0.1044\n",
      "Epoch 15/15\n",
      "60000/60000 [==============================] - 7s 123us/sample - loss: 14.4351 - acc: 0.1044\n",
      "index:  8966 actual y:  2 predicted y:  7\n",
      "index:  6383 actual y:  0 predicted y:  7\n",
      "index:  9854 actual y:  8 predicted y:  7\n",
      "index:  4734 actual y:  2 predicted y:  7\n",
      "index:  1979 actual y:  9 predicted y:  7\n",
      "index:  1871 actual y:  2 predicted y:  7\n",
      "index:  1277 actual y:  9 predicted y:  7\n",
      "index:  5458 actual y:  6 predicted y:  7\n",
      "index:  1697 actual y:  9 predicted y:  7\n",
      "index:  20 actual y:  9 predicted y:  7\n"
     ]
    }
   ],
   "source": [
    "import numpy as np\n",
    "import random\n",
    "import tensorflow as tf\n",
    "\n",
    "learning_rate = 0.001\n",
    "batch_size = 100\n",
    "training_epochs = 15\n",
    "nb_classes = 10\n",
    "\n",
    "(x_train, y_train), (x_test2, y_test) = tf.keras.datasets.mnist.load_data()\n",
    "print(x_train.shape)\n",
    "\n",
    "x_train = x_train.reshape(x_train.shape[0], 28 * 28)\n",
    "x_test = x_test2.reshape(x_test2.shape[0], 28 * 28)\n",
    "\n",
    "y_train = tf.keras.utils.to_categorical(y_train, nb_classes)\n",
    "y_test = tf.keras.utils.to_categorical(y_test, nb_classes)\n",
    "\n",
    "tf.model = tf.keras.Sequential()\n",
    "\n",
    "tf.model.add(tf.keras.layers.Dense(input_dim=784, units=512, kernel_initializer='glorot_normal', activation='relu'))\n",
    "tf.model.add(tf.keras.layers.Dense(units=512, kernel_initializer='glorot_normal', activation='relu'))\n",
    "tf.model.add(tf.keras.layers.Dense(units=512, kernel_initializer='glorot_normal', activation='relu'))\n",
    "tf.model.add(tf.keras.layers.Dense(units=512, kernel_initializer='glorot_normal', activation='relu'))\n",
    "tf.model.add(tf.keras.layers.Dense(units=nb_classes, kernel_initializer='glorot_normal', activation='softmax'))\n",
    "tf.model.compile(loss='categorical_crossentropy',\n",
    "                 optimizer=tf.keras.optimizers.Adam(lr=learning_rate), metrics=['accuracy'])\n",
    "tf.model.summary()\n",
    "\n",
    "history = tf.model.fit(x_train, y_train, batch_size=batch_size, epochs=training_epochs)\n",
    "\n",
    "#predict 10 random hand-writing data\n",
    "y_predicted = tf.model.predict(x_test)\n",
    "for x in range(0, 10):\n",
    "    random_index = random.randint(0, x_test.shape[0]-1)\n",
    "    print(\"index: \", random_index,\n",
    "          \"actual y: \", np.argmax(y_test[random_index]),\n",
    "          \"predicted y: \", np.argmax(y_predicted[random_index]))"
   ]
  },
  {
   "cell_type": "code",
   "execution_count": 3,
   "metadata": {},
   "outputs": [
    {
     "name": "stdout",
     "output_type": "stream",
     "text": [
      "10000/10000 [==============================] - 1s 59us/sample - loss: 14.4612 - acc: 0.1028\n",
      "loss:  14.461155044555664\n",
      "accuracy 0.1028\n"
     ]
    }
   ],
   "source": [
    "#evaluate test set\n",
    "evaluation = tf.model.evaluate(x_test, y_test)\n",
    "print('loss: ', evaluation[0])\n",
    "print('accuracy', evaluation[1])"
   ]
  },
  {
   "cell_type": "code",
   "execution_count": null,
   "metadata": {},
   "outputs": [],
   "source": []
  }
 ],
 "metadata": {
  "kernelspec": {
   "display_name": "Python 3",
   "language": "python",
   "name": "python3"
  },
  "language_info": {
   "codemirror_mode": {
    "name": "ipython",
    "version": 3
   },
   "file_extension": ".py",
   "mimetype": "text/x-python",
   "name": "python",
   "nbconvert_exporter": "python",
   "pygments_lexer": "ipython3",
   "version": "3.7.6"
  }
 },
 "nbformat": 4,
 "nbformat_minor": 4
}
