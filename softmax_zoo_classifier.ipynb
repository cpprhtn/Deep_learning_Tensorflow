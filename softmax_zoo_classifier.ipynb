{
 "cells": [
  {
   "cell_type": "code",
   "execution_count": null,
   "metadata": {},
   "outputs": [],
   "source": [
    "import tensorflow as tf\n",
    "import numpy as np\n",
    "\n",
    "xy = np.loadtxt('..\\data-04-zoo.csv', delimiter=',', dtype=np.float32)\n",
    "x_data = xy[:, 0:-1]\n",
    "y_data = xy[:, [-1]]\n",
    "\n",
    "print(x_data.shape, y_data.shape)\n",
    "\n",
    "'''\n",
    "(101, 16) (101, 1)\n",
    "'''\n",
    "\n",
    "nb_classes = 7  # 0 ~ 6\n",
    "\n",
    "\n",
    "y_one_hot = tf.keras.utils.to_categorical(y_data, nb_classes)\n",
    "print(\"one_hot:\", y_one_hot)\n",
    "\n",
    "tf.model = tf.keras.Sequential()\n",
    "tf.model.add(tf.keras.layers.Dense(units=nb_classes, input_dim=16, activation='softmax'))\n",
    "tf.model.compile(loss='categorical_crossentropy', optimizer=tf.keras.optimizers.SGD(lr=0.1), metrics=['accuracy'])\n",
    "tf.model.summary()\n",
    "\n",
    "history = tf.model.fit(x_data, y_one_hot, epochs=1000)\n",
    "\n",
    "# Single data test\n",
    "test_data = np.array([[0, 0, 1, 0, 0, 1, 1, 1, 1, 0, 0, 1, 0, 1, 0, 0]])\n",
    "print(tf.model.predict(test_data), tf.model.predict_classes(test_data))\n",
    "\n",
    "# Full x_data test\n",
    "pred = tf.model.predict_classes(x_data)\n",
    "for p, y in zip(pred, y_data.flatten()):\n",
    "    print(\"[{}] Prediction: {} True Y: {}\".format(p == int(y), p, int(y)))\n"
   ]
  }
 ],
 "metadata": {
  "kernelspec": {
   "display_name": "Python 3",
   "language": "python",
   "name": "python3"
  },
  "language_info": {
   "codemirror_mode": {
    "name": "ipython",
    "version": 3
   },
   "file_extension": ".py",
   "mimetype": "text/x-python",
   "name": "python",
   "nbconvert_exporter": "python",
   "pygments_lexer": "ipython3",
   "version": "3.7.6"
  }
 },
 "nbformat": 4,
 "nbformat_minor": 4
}
